{
  "nbformat": 4,
  "nbformat_minor": 0,
  "metadata": {
    "colab": {
      "provenance": [],
      "authorship_tag": "ABX9TyPQJkOD1F5nZh4/YrkAPZrH",
      "include_colab_link": true
    },
    "kernelspec": {
      "name": "python3",
      "display_name": "Python 3"
    },
    "language_info": {
      "name": "python"
    }
  },
  "cells": [
    {
      "cell_type": "markdown",
      "metadata": {
        "id": "view-in-github",
        "colab_type": "text"
      },
      "source": [
        "<a href=\"https://colab.research.google.com/github/Vinny1804/Projetos-Faculdade/blob/main/Projetos_Linguagens_de_Programa%C3%A7%C3%A3o.ipynb\" target=\"_parent\"><img src=\"https://colab.research.google.com/assets/colab-badge.svg\" alt=\"Open In Colab\"/></a>"
      ]
    },
    {
      "cell_type": "code",
      "execution_count": null,
      "metadata": {
        "colab": {
          "base_uri": "https://localhost:8080/"
        },
        "id": "02DBCpqyBWEX",
        "outputId": "cdf70181-dbcf-412c-edda-d3a0271ddea5"
      },
      "outputs": [
        {
          "output_type": "stream",
          "name": "stdout",
          "text": [
            "Digite a primeira nota: 6\n",
            "Digite a segunda nota: 6\n",
            "Digite a quantidade de faltas: 0\n",
            "O aluno ficou de exame!\n",
            "Digite a nota do exame: 6\n",
            "O aluno foi reprovado! Com a média de 6.0, e com 0 faltas.\n"
          ]
        }
      ],
      "source": [
        "nota1 = float(input(\"Digite a primeira nota: \"))\n",
        "nota2 = float(input(\"Digite a segunda nota: \"))\n",
        "faltas = int(input(\"Digite a quantidade de faltas: \"))\n",
        "if faltas > 0:\n",
        "  abono_faltas = input(\"O aluno tem abono de faltas? (s/n): \").lower()\n",
        "else:\n",
        "    abono_faltas = \"n\"\n",
        "if abono_faltas == \"s\":\n",
        "  faltas_abonadas = int(input(\"Digite a quantidade de faltas abonadas: \"))\n",
        "  faltas = faltas - faltas_abonadas\n",
        "media = (nota1 + nota2) / 2\n",
        "if media >= 7 and faltas < 5:\n",
        " print(f\"O aluno foi aprovado! Com a média de {media}, e com {faltas} faltas.\")\n",
        "elif media < 8 or faltas >= 5:\n",
        "  print(\"O aluno ficou de exame!\")\n",
        "  media < 7 and faltas >= 5\n",
        "  exame = float(input(\"Digite a nota do exame: \"))\n",
        "  media_final = (media + exame) / 2\n",
        "if media_final >= 7:\n",
        " print(f\"O aluno foi aprovado! Com a média de {media_final}, e com {faltas} faltas.\")\n",
        "else:\n",
        " print(f\"O aluno foi reprovado! Com a média de {media}, e com {faltas} faltas.\")\n"
      ]
    },
    {
      "cell_type": "code",
      "source": [
        "qtde_notas = int(input(\"Digite a quantidade de notas: \"))\n",
        "for i in range(qtde_notas):\n",
        " nota = float(input(f\"Digite as notas: \"))\n",
        "media = (nota * qtde_notas) / qtde_notas\n",
        "if media >= 7:\n",
        " print(f\"Com a média {media}, o aluno foi aprovado!\")\n",
        "else:\n",
        " print(f\"Com a média {media}, o aluno foi reprovado!\")"
      ],
      "metadata": {
        "colab": {
          "base_uri": "https://localhost:8080/"
        },
        "id": "KPnz0RPDGqGB",
        "outputId": "9e063b65-7046-4ee7-c8ef-2154ac7d56ad"
      },
      "execution_count": null,
      "outputs": [
        {
          "output_type": "stream",
          "name": "stdout",
          "text": [
            "Digite a quantidade de notas: 3\n",
            "Digite as notas: 10\n",
            "Digite as notas: 10\n",
            "Digite as notas: 10\n",
            "Com a média 10.0, o aluno foi aprovado!\n"
          ]
        }
      ]
    },
    {
      "cell_type": "code",
      "source": [
        "numero = 1\n",
        "while numero != 0:\n",
        " numero = int(input(\"Digite um número: \"))\n",
        " if numero % 2 == 0:\n",
        "  print(\"Número par!\")\n",
        " else:\n",
        "  print(\"Número ímpar!\")\n"
      ],
      "metadata": {
        "id": "_tLUJ_VpWeII"
      },
      "execution_count": null,
      "outputs": []
    },
    {
      "cell_type": "code",
      "source": [
        "nome = \"Vinicius\"\n",
        "for i, c in enumerate(nome):\n",
        " print(f\"Posição = {i}, valor = {c}\")\n"
      ],
      "metadata": {
        "id": "RsZAJscRXDyR"
      },
      "execution_count": null,
      "outputs": []
    },
    {
      "cell_type": "code",
      "source": [
        "texto = \"\"\"\n",
        "A inserção de comentários no código do programa é uma prática normal.\n",
        "Em função disso, toda linguagem de programação tem alguma maneira de permitir que\n",
        "comentários sejam inseridos nos programas.\n",
        "O objetivo é adicionar descrições em partes do código, seja para documentá-lo ou\n",
        "para adicionar uma descrição do algoritmo implementado (BANIN, p. 45, 2018).\"\n",
        "\"\"\"\n",
        "vogais = 0\n",
        "for i, letra in enumerate(texto.lower()):\n",
        "  if letra in \"aeiouáàãâäéèẽêëíìĩîïóòõôöúùũûü\":\n",
        "    vogais += 1\n",
        "    print(f\"Vogal '{letra}' encontrada, na posição {i}\")\n",
        "print(f\"Número de vogais no texto: {vogais}\")"
      ],
      "metadata": {
        "id": "p85oFxp8ZWIU",
        "cellView": "code"
      },
      "execution_count": null,
      "outputs": []
    }
  ]
}