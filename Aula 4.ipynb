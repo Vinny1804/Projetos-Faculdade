{
  "cells": [
    {
      "cell_type": "markdown",
      "metadata": {
        "id": "view-in-github",
        "colab_type": "text"
      },
      "source": [
        "<a href=\"https://colab.research.google.com/github/Vinny1804/Projetos-Faculdade/blob/main/Aula%204.ipynb\" target=\"_parent\"><img src=\"https://colab.research.google.com/assets/colab-badge.svg\" alt=\"Open In Colab\"/></a>"
      ]
    },
    {
      "cell_type": "code",
      "source": [
        "texto = \"Aprendendo Python na disciplina de linguagem de programação.\"\n",
        "print(f\"Tamanho do texto = {len(texto)}\")\n",
        "print(f\"Python in texto = {'Python' in texto}\")\n",
        "print(f\"Quantidade de y no texto = {texto.count('y')}\")\n",
        "print(f\"As 5 primeiras letras são: {texto[0:6]}\")\n",
        "\n",
        "print(texto.upper())\n",
        "print(texto.replace(\"i\", 'XX'))"
      ],
      "metadata": {
        "id": "ixCkqXgFJXW2"
      },
      "execution_count": null,
      "outputs": []
    },
    {
      "cell_type": "code",
      "source": [
        "texto = \"Aprendendo Python na disciplina de linguagem de programação.\"\n",
        "print(f\"texto = {texto}\")\n",
        "print(f\"Tamanho do texto = {len(texto)}\\n\")\n",
        "palavras = texto.split()\n",
        "print(f\"palavras = {palavras}\")\n",
        "print(f\"Tamanho de palavras = {len(palavras)}\")"
      ],
      "metadata": {
        "id": "rf51wpeSKE2B"
      },
      "execution_count": null,
      "outputs": []
    },
    {
      "cell_type": "code",
      "source": [
        "texto = \"\"\"Operadores de String\n",
        "Python oferece operadores para processar texto (ou seja, valores de string).\n",
        "Assim como os números, as strings podem ser comparadas usando operadores de comparação:\n",
        "==, !=, <, > e assim por diante.\n",
        "O operador ==, por exemplo, retorna True se as strings nos dois lados do operador tiverem o mesmo valor (Perkovic, p. 23, 2016).\n",
        "\"\"\"\n",
        "print(f\"Tamanho do texto = {len(texto)}\")\n",
        "texto = texto.lower()\n",
        "texto = texto.replace(\",\", \"\").replace(\".\", \"\").replace(\"(\", \"\").replace(\")\", \"\").replace(\"\\n\", \" \")\n",
        "lista_palavras = texto.split()\n",
        "print(f\"Tamanho da lista de palavras = {len(lista_palavras)}\")\n",
        "\n",
        "total = lista_palavras.count(\"string\") + lista_palavras.count(\"strings\")\n",
        "\n",
        "print(f\"Quantidade de vezes que string ou strings aparecem = {total}\")"
      ],
      "metadata": {
        "id": "ChVbXHK-LEFP"
      },
      "execution_count": null,
      "outputs": []
    },
    {
      "cell_type": "code",
      "source": [
        "vogais = ['a', 'e', 'i', 'o', 'u']\n",
        "for vogal in vogais:\n",
        " print (f'Posição = {vogais.index(vogal)}, valor = {vogal}')"
      ],
      "metadata": {
        "id": "6eFvGNbAJ__k"
      },
      "execution_count": null,
      "outputs": []
    },
    {
      "cell_type": "code",
      "source": [
        "vogais = []\n",
        "print(f\"Tipo do objeto vogais = {type(vogais)}\")\n",
        "vogais.append('a')\n",
        "vogais.append('e')\n",
        "vogais.append('i')\n",
        "vogais.append('o')\n",
        "vogais.append('u')\n",
        "for p, x in enumerate(vogais):\n",
        " print(f\"Posição = {p}, valor = {x}\")"
      ],
      "metadata": {
        "id": "LqCQ_BdIKtb7"
      },
      "execution_count": null,
      "outputs": []
    },
    {
      "cell_type": "code",
      "source": [
        "frutas = [\"maça\", \"banana\", \"uva\", \"mamão\", \"maça\"]\n",
        "notas = [8.7, 5.2, 10, 3.5]\n",
        "\n",
        "print(\"maça\" in frutas)\n",
        "print(\"abacate\" in frutas)\n",
        "print(\"abacate\" not in frutas)\n",
        "print(min(frutas)) # menor valor (sequencia em ordem alfabetica)\n",
        "print(max(notas))\n",
        "print(frutas.count(\"maça\"))\n",
        "print(frutas + notas)\n",
        "print(2 * frutas)"
      ],
      "metadata": {
        "id": "NvQTPyKRLPyD"
      },
      "execution_count": null,
      "outputs": []
    },
    {
      "cell_type": "code",
      "source": [
        "lista = ['Python', 30.61, \"Java\", 51 , ['a', 'b', 20], \"maça\"]\n",
        "print(f\"Tamanho da lista = {len(lista)}\")\n",
        "for i, item in enumerate(lista):\n",
        " print(f\"Posição = {i},\\t valor = {item} -----------------> tipo individual = {type(item)}\")\n",
        "print(\"\\nExemplos de slices:\\n\")\n",
        "print(\"lista[1] = \", lista[1])\n",
        "print(\"lista[0:2] = \", lista[0:2])\n",
        "print(\"lista[:2] = \", lista[:2])\n",
        "print(\"lista[3:5] = \", lista[3:5])\n",
        "print(\"lista[3:6] = \", lista[3:6])\n",
        "print(\"lista[3:] = \", lista[3:])\n",
        "print(\"lista[-2] = \", lista[-2]) # penúltimo elemento da lista\n",
        "print(\"lista[-1] = \", lista[-1]) # último elemento da lista\n",
        "print(\"lista[4][1] = \", lista[4][1])"
      ],
      "metadata": {
        "id": "3O8To--DN5YB"
      },
      "execution_count": null,
      "outputs": []
    },
    {
      "cell_type": "code",
      "source": [
        "linguagens = [\"Python\", \"Java\", \"JavaScript\", \"C\", \"C#\", \"C++\", \"Swift\", \"Go\", \"Kotlin\"]\n",
        "# linguagens = '''Python Java JavaScript C C# C++ Swift Go Kotlin'''.split()\n",
        "# Essa sintaxe produz o mesmo resultado que a linha 1\n",
        "print(\"Antes da listcomp = \", linguagens)\n",
        "linguagens = [item.lower() for item in linguagens]\n",
        "print(\"\\nDepois da listcomp = \", linguagens)"
      ],
      "metadata": {
        "id": "LX5tGQHkQqXK"
      },
      "execution_count": null,
      "outputs": []
    },
    {
      "cell_type": "code",
      "source": [
        "linguagens = '''Python Java JavaScript C C# C++ Swift Go Kotlin'''.split()\n",
        "print(\"Antes da listcomp = \", linguagens)\n",
        "for i, item in enumerate(linguagens):\n",
        " linguagens[i] = item.lower()\n",
        "\n",
        "print(\"\\nDepois da listcomp = \", linguagens)"
      ],
      "metadata": {
        "id": "XaiixeV8ZBHh"
      },
      "execution_count": null,
      "outputs": []
    },
    {
      "cell_type": "code",
      "source": [
        "linguagens = '''Python Java JavaScript C C# C++ Swift Go Kotlin'''.split()\n",
        "linguagens_java = [item for item in linguagens if \"Java\" in item]\n",
        "print(linguagens_java)"
      ],
      "metadata": {
        "id": "u0lkgrhkZMGD"
      },
      "execution_count": null,
      "outputs": []
    },
    {
      "cell_type": "code",
      "source": [
        "linguagens = '''Python Java JavaScript C C# C++ Swift Go Kotlin'''.split()\n",
        "linguagens_java = []\n",
        "for item in linguagens:\n",
        " if \"Java\" in item:\n",
        "  linguagens_java.append(item)\n",
        "print(linguagens_java)"
      ],
      "metadata": {
        "id": "2boRf0kPZbwD"
      },
      "execution_count": null,
      "outputs": []
    },
    {
      "cell_type": "code",
      "source": [
        "# Exemplo 1\n",
        "print(\"Exemplo 1\")\n",
        "linguagens = '''Python Java JavaScript C C# C++ Swift Go Kotlin'''.split()\n",
        "\n",
        "nova_lista = map(lambda x: x.lower(), linguagens)\n",
        "print(f\"A nova lista é = {nova_lista}\\n\")\n",
        "nova_lista = list(nova_lista)\n",
        "print(f\"Agora sim, a nova lista é = {nova_lista}\")\n",
        "\n",
        "# Exemplo 2\n",
        "print(\"\\n\\nExemplo 2\")\n",
        "numeros = [0, 1, 2, 3, 4, 5]\n",
        "quadrados = list(map(lambda x: x*x, numeros))\n",
        "print(f\"Lista com o número elevado a ele mesmo = {quadrados}\\n\")"
      ],
      "metadata": {
        "id": "n3egAVKDZwUB"
      },
      "execution_count": null,
      "outputs": []
    },
    {
      "cell_type": "code",
      "source": [
        "numeros = list(range(0, 21))\n",
        "numeros_pares = list(filter(lambda x: x % 2 == 0, numeros))\n",
        "print(numeros_pares)"
      ],
      "metadata": {
        "id": "_L5XVHOub9CI"
      },
      "execution_count": null,
      "outputs": []
    },
    {
      "cell_type": "code",
      "source": [
        "vogais = ('a', 'e', 'i', 'o', 'u')\n",
        "# não dá para atribuir ou retirar em tuplas\n",
        "print(f\"Tipo do objeto vogais = {type(vogais)}\")\n",
        "for p, x in enumerate(vogais):\n",
        " print(f\"Posição = {p}, valor = {x}\")"
      ],
      "metadata": {
        "id": "dlz2xUG3cfEn"
      },
      "execution_count": null,
      "outputs": []
    },
    {
      "cell_type": "code",
      "source": [
        "vogais = ('a', 'e', 'i', 'o', 'u')\n",
        "for item in enumerate(vogais):\n",
        " print(item)\n",
        "\n",
        "# print(tuple(enumerate(vogais)))\n",
        "# print(list(enumerate(vogais)))\n"
      ],
      "metadata": {
        "id": "SL7yvnb4c00P"
      },
      "execution_count": null,
      "outputs": []
    },
    {
      "cell_type": "code",
      "source": [
        "vogais_1 = {'aeiou'} # sem uso do construtor\n",
        "print(type(vogais_1), vogais_1)\n",
        "\n",
        "vogais_2 = set('aeiouaaaaaa') # construtor com string\n",
        "print(type(vogais_2), vogais_2)\n",
        "\n",
        "vogais_3 = set(['a', 'e', 'i', 'o', 'u']) # construtor com lista\n",
        "print(type(vogais_3), vogais_3)\n",
        "\n",
        "vogais_4 = set(('a', 'e', 'i', 'o', 'u')) # construtor com tupla\n",
        "print(type(vogais_4), vogais_4)\n",
        "print(set('banana'))"
      ],
      "metadata": {
        "id": "cCAriPMddzzI"
      },
      "execution_count": null,
      "outputs": []
    },
    {
      "cell_type": "code",
      "source": [
        "def create_report():\n",
        " componentes_verificados = set(['caixas de som', 'cooler', 'dissipador de calor',\n",
        " 'cpu', 'hd', 'estabilizador', 'gabinete', 'hub', 'impressora', 'joystick',\n",
        " 'memória ram', 'microfone', 'modem', 'monitor', 'mouse', 'nobreak',\n",
        "'placa de captura', 'placa de som', 'placa de vídeo', 'placa mãe', 'scanner', 'teclado', 'webcam'])\n",
        "\n",
        " componentes_com_defeito = set(['hd', 'monitor', 'placa de som', 'scanner'])\n",
        "\n",
        " qtde_componentes_verificados = len(componentes_verificados)\n",
        " qtde_componentes_com_defeito = len(componentes_com_defeito)\n",
        "\n",
        " componentes_ok = componentes_verificados.difference(componentes_com_defeito)\n",
        "\n",
        " print(f\"Foram verificados {qtde_componentes_verificados} componentes.\\n\")\n",
        " print(f\"{qtde_componentes_com_defeito} componentes apresentaram defeito.\\n\")\n",
        "\n",
        " print(\"Os componentes que podem ser vendidos são:\")\n",
        " for item in componentes_ok:\n",
        "  print(item)\n",
        "create_report()"
      ],
      "metadata": {
        "id": "yS2nfqFxe8hg"
      },
      "execution_count": null,
      "outputs": []
    },
    {
      "cell_type": "code",
      "source": [
        "# Exemplo 1 - Criação de dicionário vazio, com atribuição posterior de chave e valor\n",
        "dici_1 = {}\n",
        "dici_1['nome'] = \"João\"\n",
        "dici_1['idade'] = 30\n",
        "\n",
        "# Exemplo 2 - Criação de dicionário usando um par elementos na forma, chave : valor\n",
        "dici_2 = {'nome': 'João', 'idade': 30}\n",
        "\n",
        "# Exemplo 3 - Criação de dicionário com uma lista de tuplas. Cada tupla representa um par chave : valor\n",
        "dici_3 = dict([('nome', \"João\"), ('idade', 30)])\n",
        "\n",
        "# Exemplo 4 - Criação de dicionário com a função built-in zip() e duas listas, uma com as chaves, outra com os valores.\n",
        "dici_4 = dict(zip(['nome', 'idade'], [\"João\", 30]))\n",
        "print(dici_1 == dici_2 == dici_3 == dici_4) # Testando se as diferentes construções resultamo em objetos iguais."
      ],
      "metadata": {
        "id": "OM8RARzggi8p"
      },
      "execution_count": null,
      "outputs": []
    },
    {
      "cell_type": "code",
      "source": [
        "cadastro = {\n",
        " 'nome' : ['João', 'Ana', 'Pedro', 'Marcela'],\n",
        " 'cidade' : ['São Paulo', 'São Paulo', 'Rio de Janeiro', 'Curitiba'],\n",
        " 'idade' : [25, 33, 37, 18]\n",
        " }\n",
        "print(\"len(cadastro) = \", len(cadastro))\n",
        "print(\"\\n cadastro.keys() = \\n\", cadastro.keys())\n",
        "print(\"\\n cadastro.values() = \\n\", cadastro.values())\n",
        "print(\"\\n cadastro.items() = \\n\", cadastro.items())\n",
        "print(\"\\n cadastro['nome'] = \", cadastro['nome'])\n",
        "print(\"\\n cadastro['nome'][2] = \", cadastro['nome'][2])\n",
        "print(\"\\n cadastro['idade'][2:] = \", cadastro['idade'][2:])"
      ],
      "metadata": {
        "id": "4dQMUrGsgxFQ"
      },
      "execution_count": null,
      "outputs": []
    },
    {
      "cell_type": "code",
      "source": [
        "print(len(cadastro['nome']))\n",
        "print(len(cadastro['cidade']))\n",
        "print(len(cadastro['idade']))\n",
        "qtde_itens = sum([len(cadastro[chave]) for chave in cadastro])\n",
        "print(f\"\\n\\nQuantidade de elementos no dicionário = {qtde_itens}\")"
      ],
      "metadata": {
        "id": "lHMbk_a3hJEK"
      },
      "execution_count": null,
      "outputs": []
    }
  ],
  "metadata": {
    "colab": {
      "provenance": [],
      "include_colab_link": true
    },
    "kernelspec": {
      "display_name": "Python 3",
      "name": "python3"
    }
  },
  "nbformat": 4,
  "nbformat_minor": 0
}