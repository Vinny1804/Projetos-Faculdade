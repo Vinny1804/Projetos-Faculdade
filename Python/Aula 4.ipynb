{
  "cells": [
    {
      "cell_type": "markdown",
      "metadata": {
        "id": "view-in-github",
        "colab_type": "text"
      },
      "source": [
        "<a href=\"https://colab.research.google.com/github/Vinny1804/Projetos-Faculdade/blob/main/Aula%204.ipynb\" target=\"_parent\"><img src=\"https://colab.research.google.com/assets/colab-badge.svg\" alt=\"Open In Colab\"/></a>"
      ]
    },
    {
      "cell_type": "code",
      "source": [
        "texto = \"Aprendendo Python na disciplina de linguagem de programação.\"\n",
        "print(f\"Tamanho do texto = {len(texto)}\")\n",
        "print(f\"Python in texto = {'Python' in texto}\")\n",
        "print(f\"Quantidade de y no texto = {texto.count('y')}\")\n",
        "print(f\"As 5 primeiras letras são: {texto[0:6]}\")\n",
        "print(texto.upper())\n",
        "print(texto.replace(\"i\", 'XX'))"
      ],
      "metadata": {
        "id": "ixCkqXgFJXW2"
      },
      "execution_count": null,
      "outputs": []
    },
    {
      "cell_type": "code",
      "source": [
        "texto = \"Aprendendo Python na disciplina de linguagem de programação.\"\n",
        "print(f\"texto = {texto}\")\n",
        "print(f\"Tamanho do texto = {len(texto)}\\n\")\n",
        "palavras = texto.split()\n",
        "print(f\"palavras = {palavras}\")\n",
        "print(f\"Tamanho de palavras = {len(palavras)}\")"
      ],
      "metadata": {
        "id": "rf51wpeSKE2B"
      },
      "execution_count": null,
      "outputs": []
    },
    {
      "cell_type": "code",
      "source": [
        "texto = \"\"\"Operadores de String\n",
        "Python oferece operadores para processar texto (ou seja, valores de string).\n",
        "Assim como os números, as strings podem ser comparadas usando operadores de comparação:\n",
        "==, !=, <, > e assim por diante.\n",
        "O operador ==, por exemplo, retorna True se as strings nos dois lados do operador tiverem o mesmo valor (Perkovic, p. 23, 2016).\n",
        "\"\"\"\n",
        "print(f\"Tamanho do texto = {len(texto)}\")\n",
        "texto = texto.lower()\n",
        "texto = texto.replace(\",\", \"\").replace(\".\", \"\").replace(\"(\", \"\").replace(\")\", \"\").replace(\"\\n\", \" \")\n",
        "lista_palavras = texto.split()\n",
        "print(f\"Tamanho da lista de palavras = {len(lista_palavras)}\")\n",
        "\n",
        "total = lista_palavras.count(\"string\") + lista_palavras.count(\"strings\")\n",
        "\n",
        "print(f\"Quantidade de vezes que string ou strings aparecem = {total}\")"
      ],
      "metadata": {
        "id": "ChVbXHK-LEFP",
        "outputId": "5cebd2c0-2412-4371-e312-c63ead8a39d9",
        "colab": {
          "base_uri": "https://localhost:8080/"
        }
      },
      "execution_count": null,
      "outputs": [
        {
          "output_type": "stream",
          "name": "stdout",
          "text": [
            "Tamanho do texto = 348\n",
            "Tamanho da lista de palavras = 58\n",
            "Quantidade de vezes que string ou strings aparecem = 4\n"
          ]
        }
      ]
    }
  ],
  "metadata": {
    "colab": {
      "provenance": [],
      "include_colab_link": true
    },
    "kernelspec": {
      "display_name": "Python 3",
      "name": "python3"
    }
  },
  "nbformat": 4,
  "nbformat_minor": 0
}
