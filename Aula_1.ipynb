{
  "cells": [
    {
      "cell_type": "markdown",
      "metadata": {
        "id": "view-in-github",
        "colab_type": "text"
      },
      "source": [
        "<a href=\"https://colab.research.google.com/github/Vinny1804/Projetos-Faculdade/blob/main/Aula_1.ipynb\" target=\"_parent\"><img src=\"https://colab.research.google.com/assets/colab-badge.svg\" alt=\"Open In Colab\"/></a>"
      ]
    },
    {
      "cell_type": "code",
      "source": [
        "x = 10\n",
        "nome = 'Vinicius'\n",
        "nota = 8.75\n",
        "fez_inscricao = True\n",
        "print(type(x))\n",
        "print(type(nome))\n",
        "print(type(nota))\n",
        "print(type(fez_inscricao))"
      ],
      "metadata": {
        "id": "8VC7ljsY-ue5"
      },
      "execution_count": null,
      "outputs": []
    },
    {
      "cell_type": "code",
      "source": [
        "nome = input('Digite o seu nome: ')\n",
        "#print(nome)\n",
        "print(f'Olá {nome}, bem vindo a disciplina de programação. Parabéns pelo seu primeiro hello world!')"
      ],
      "metadata": {
        "id": "rabklHt3E_-a"
      },
      "execution_count": null,
      "outputs": []
    },
    {
      "cell_type": "code",
      "source": [
        "operacao_1 = 2 + 3 * 5\n",
        "operacao_2 = (2 + 3) * 5\n",
        "operacao_3 = 4 / 2 ** 2\n",
        "operacao_4 = 13 % 3 + 4\n",
        "print(f'Qual o resultado armazendo na variável operacao_2: 25 ou 17?\\nResultado da operação_2: {operacao_2}')\n",
        "print(f'Qual o resultado armazendo na variável operacao_1: 25 ou 17?\\nResultado da operação_1: {operacao_1}')\n",
        "print(f'Qual o resultado armazendo na variável operacao_3: 4 ou 1?\\nResultado da operação_3: {operacao_3}')\n",
        "print(f'Qual o resultado armazendo na variável operacao_4: 1 ou 5?\\nResultado da operação_4: {operacao_4}')"
      ],
      "metadata": {
        "id": "GTKqZwaJE49l"
      },
      "execution_count": null,
      "outputs": []
    },
    {
      "cell_type": "code",
      "source": [
        "a = 2\n",
        "b = 0.5\n",
        "c = 1\n",
        "x = float(input(\"Digite o valor de x: \"))\n",
        "#x = float(x)\n",
        "y = a * x ** 2 + b * x + c\n",
        "print(f\"O resultado de y para x = {x} é {y}.\")\n"
      ],
      "metadata": {
        "id": "guF3ime3FyE0"
      },
      "execution_count": null,
      "outputs": []
    },
    {
      "cell_type": "code",
      "source": [
        "a = 10\n",
        "b = 5\n",
        "if a < b:\n",
        "   print(\"a é menor do que b\")\n",
        "   r = a + b\n",
        "   print(r)\n",
        "else:\n",
        "  print(\"a é maior do que b\")\n",
        "  r = a - b\n",
        "  print(r)"
      ],
      "metadata": {
        "id": "48M_Bx239Kwu"
      },
      "execution_count": null,
      "outputs": []
    },
    {
      "cell_type": "code",
      "source": [
        "codigo_compra = 5111\n",
        "if codigo_compra == 5222:\n",
        "  print(\"Compra á vista.\")\n",
        "elif codigo_compra == 5333:\n",
        "  print(\"Compra á prazo no boleto.\")\n",
        "elif codigo_compra == 5444:\n",
        "  print(\"Compra á prazo no cartão.\")\n",
        "else:\n",
        "  print(\"Código não cadastrado\")"
      ],
      "metadata": {
        "id": "ceceaBoL95j9"
      },
      "execution_count": null,
      "outputs": []
    },
    {
      "cell_type": "code",
      "source": [
        "qtde_faltas = int(input(\"Digite a quantidade de faltas: \"))\n",
        "media_final = float(input(\"Digite a média final: \"))\n",
        "if qtde_faltas <= 5 and media_final >= 7:\n",
        "  print(\"Aluno aprovado!\")\n",
        "else:\n",
        "  print(\"Aluno reprovado!\")"
      ],
      "metadata": {
        "colab": {
          "base_uri": "https://localhost:8080/"
        },
        "id": "tpkhNTAs-YUo",
        "outputId": "3c624682-30ae-46b5-f1da-03927f08e3af"
      },
      "execution_count": null,
      "outputs": [
        {
          "output_type": "stream",
          "name": "stdout",
          "text": [
            "Digite a quantidade de faltas: 5\n",
            "Digite a média final: 5\n",
            "Aluno reprovado!\n"
          ]
        }
      ]
    }
  ],
  "metadata": {
    "colab": {
      "provenance": [],
      "include_colab_link": true
    },
    "kernelspec": {
      "display_name": "Python 3",
      "name": "python3"
    }
  },
  "nbformat": 4,
  "nbformat_minor": 0
}