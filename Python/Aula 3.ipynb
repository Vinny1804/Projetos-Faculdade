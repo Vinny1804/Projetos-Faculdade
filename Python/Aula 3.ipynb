{
  "nbformat": 4,
  "nbformat_minor": 0,
  "metadata": {
    "colab": {
      "provenance": [],
      "authorship_tag": "ABX9TyNqsg+eMqrxyMM9jeIZGz+4",
      "include_colab_link": true
    },
    "kernelspec": {
      "name": "python3",
      "display_name": "Python 3"
    },
    "language_info": {
      "name": "python"
    }
  },
  "cells": [
    {
      "cell_type": "markdown",
      "metadata": {
        "id": "view-in-github",
        "colab_type": "text"
      },
      "source": [
        "<a href=\"https://colab.research.google.com/github/Vinny1804/Projetos-Faculdade/blob/main/Aula%203.ipynb\" target=\"_parent\"><img src=\"https://colab.research.google.com/assets/colab-badge.svg\" alt=\"Open In Colab\"/></a>"
      ]
    },
    {
      "cell_type": "code",
      "execution_count": null,
      "metadata": {
        "id": "sJ0I9aXnNiXg"
      },
      "outputs": [],
      "source": [
        "a = 2\n",
        "b = 1\n",
        "equacao = input(\"Digite a fórmula geral da equação linear (a * x + b): \")\n",
        "print(f\"\\nA entrada do usuário {equacao} é do tipo {type(equacao)}\")\n",
        "for x in range(5):\n",
        " y = eval(equacao)\n",
        " print(f\"\\nResultado da equação para x = {x} é {y}\")"
      ]
    },
    {
      "cell_type": "code",
      "source": [
        "def imprimir_mensagem(disciplina, curso):\n",
        " print(f\"Minha primeira função em Python desenvolvida na disciplina: {disciplina}, do curso: {curso}.\")\n",
        "disciplina = input(\"Digite o nome da disciplina: \")\n",
        "curso = input(\"Digite o nome do curso: \")\n",
        "imprimir_mensagem(curso, disciplina)"
      ],
      "metadata": {
        "id": "CYacoiTVVBje"
      },
      "execution_count": null,
      "outputs": []
    },
    {
      "cell_type": "code",
      "source": [
        "def converter_mes_para_extenso(data):\n",
        " mes = '''janeiro fevereiro março\n",
        " abril maio junho julho agosto\n",
        " setembro outubro novembro\n",
        " dezembro'''.split()\n",
        " d, m, a = data.split('/')\n",
        " mes_extenso = mes[int(m) - 1]\n",
        " return f'{d} de {mes_extenso} de {a}'\n",
        "print(converter_mes_para_extenso('03/09/2024'))"
      ],
      "metadata": {
        "colab": {
          "base_uri": "https://localhost:8080/"
        },
        "id": "y3NRIb6KbVr_",
        "outputId": "53cdaedf-2142-4729-9bc9-8154675f5f98"
      },
      "execution_count": null,
      "outputs": [
        {
          "output_type": "stream",
          "name": "stdout",
          "text": [
            "03 de setembro de 2024\n"
          ]
        }
      ]
    }
  ]
}
